{
  "nbformat": 4,
  "nbformat_minor": 0,
  "metadata": {
    "colab": {
      "provenance": [],
      "authorship_tag": "ABX9TyNCD6N92JeNzIR9ujUh858z",
      "include_colab_link": true
    },
    "kernelspec": {
      "name": "python3",
      "display_name": "Python 3"
    },
    "language_info": {
      "name": "python"
    }
  },
  "cells": [
    {
      "cell_type": "markdown",
      "metadata": {
        "id": "view-in-github",
        "colab_type": "text"
      },
      "source": [
        "<a href=\"https://colab.research.google.com/github/HasanFil/TASK/blob/main/W11_AlperHoca.ipynb\" target=\"_parent\"><img src=\"https://colab.research.google.com/assets/colab-badge.svg\" alt=\"Open In Colab\"/></a>"
      ]
    },
    {
      "cell_type": "markdown",
      "source": [
        "1 - Boş copy nedir? \".Copy\" nedir? Yazdıktan sonra neleri değiştirir, neleri değiştirmez?\n",
        "DeepCopy nedir? Shallow Copy nedir? Bunlar oluşturduğumuz df'de neleri değiştirir?\n",
        "\n"
      ],
      "metadata": {
        "id": "e2UkfzVf2g4X"
      }
    },
    {
      "cell_type": "markdown",
      "source": [
        ".Copy - Bu fonksiyon, bir pandas objesinin kopyasını oluşturmaya yarar. Bir dataframe objesini başka bir objeye atadığımız zaman, orjinal objede yapılan değişiklikler diğer objeye de yansımaktadır. Bu problemi çözmek için copy() fonksiyonu kullanılır.\n",
        "\n",
        "\n",
        "DeepCopy - Verilerin ve dizinlerin bir kopyası dahil olmak üzere derin bir kopya oluşturur. \n",
        ".Copy içindeki deep parametresi deep=True olduğunda, veriler kopyalanır ancak gerçek Python nesneleri yinelemeli olarak kopyalanmaz, yalnızca nesneye yapılan başvuru kopyalanır. Bu, nesne verilerini yinelemeli olarak kopyalayan Standart Kitaplık'taki copy.deepcopy'nin tersidir.\n",
        "\n",
        "\n",
        "Shallow Copy(pd.copy(deep=False))'da indisleri ve datayı kopyalamaz referansları kopyalar ve birinde yapılan herhangi bir değişiklik diğerini de etkilemektedir."
      ],
      "metadata": {
        "id": "q8yZV6tP3ASk"
      }
    },
    {
      "cell_type": "markdown",
      "source": [
        " 2 - e-01 yerine 0.78'i nasıl görebiliriz?"
      ],
      "metadata": {
        "id": "KLwYfMJe3uXk"
      }
    },
    {
      "cell_type": "markdown",
      "source": [
        "'{:.x}'.format(e-01) yazıp sayının formatını değiştirebiliriz."
      ],
      "metadata": {
        "id": "4qgpZZsE3wkT"
      }
    },
    {
      "cell_type": "markdown",
      "source": [
        "3 - \"np.Log()\" doğal logoritma dediğimiz şekilde mi gelir yoksa log 2 tabanında mı gelir?"
      ],
      "metadata": {
        "id": "HtOUzRkJ4FH1"
      }
    },
    {
      "cell_type": "markdown",
      "source": [
        "np.log() fonksiyonunda logaritma tabanı e sayısına yani euler sayısına göredir.Log 10 tabanında işlem yapmak istersek np.log10() fonksiyonu kullanılabilir veya Log 2 tabanında işlem yapmak istersek np.log2() fonksiyonu kullanılabilir."
      ],
      "metadata": {
        "id": "602eqdCn4pJ-"
      }
    },
    {
      "cell_type": "code",
      "source": [
        "import numpy as np\n",
        "\n",
        "e = np.e\n",
        "\n",
        "print(np.log(e))\n",
        "print(np.log(e**5))\n",
        "print(np.log(e**2))\n",
        "print(np.log(15))\n",
        "print(np.log2(10))\n",
        "print(np.log10(10))"
      ],
      "metadata": {
        "colab": {
          "base_uri": "https://localhost:8080/"
        },
        "id": "JUeXetcn6Nvc",
        "outputId": "b8f8a3fb-901b-42a2-b87f-b5e3ae78589d"
      },
      "execution_count": 4,
      "outputs": [
        {
          "output_type": "stream",
          "name": "stdout",
          "text": [
            "1.0\n",
            "5.0\n",
            "2.0\n",
            "2.70805020110221\n",
            "3.321928094887362\n",
            "1.0\n"
          ]
        }
      ]
    },
    {
      "cell_type": "markdown",
      "source": [
        "4 - Yeo-Johnson çok büyük değerlerde uygulanamıyor mu? Neden Income değerlerindeki \"10\" olan değerimizi arttırdığımızda(1000 yaptığımızda) çıktımızda bozulmalar oluyor?"
      ],
      "metadata": {
        "id": "8lenoD1c4sQm"
      }
    },
    {
      "cell_type": "markdown",
      "source": [
        "Yeo-Johnson, veri setindeki değerlerin pozitif olma şartı olmadan kullanılabildiği bir dönüşüm metodudur. Bir diğer deyişle, veri setinde negatif ve sıfır değere sahip gözlemler olduğunda kullanışlıdır."
      ],
      "metadata": {
        "id": "xqt3RLff4wu9"
      }
    },
    {
      "cell_type": "markdown",
      "source": [],
      "metadata": {
        "id": "bPpex-qa5WEh"
      }
    }
  ]
}