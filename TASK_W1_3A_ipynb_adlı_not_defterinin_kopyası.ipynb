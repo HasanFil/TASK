{
  "nbformat": 4,
  "nbformat_minor": 0,
  "metadata": {
    "colab": {
      "provenance": [],
      "authorship_tag": "ABX9TyP4PG7rRGsiEugPX46D+R/n",
      "include_colab_link": true
    },
    "kernelspec": {
      "name": "python3",
      "display_name": "Python 3"
    },
    "language_info": {
      "name": "python"
    }
  },
  "cells": [
    {
      "cell_type": "markdown",
      "metadata": {
        "id": "view-in-github",
        "colab_type": "text"
      },
      "source": [
        "<a href=\"https://colab.research.google.com/github/HasanFil/TASK/blob/main/TASK_W1_3A_ipynb_adl%C4%B1_not_defterinin_kopyas%C4%B1.ipynb\" target=\"_parent\"><img src=\"https://colab.research.google.com/assets/colab-badge.svg\" alt=\"Open In Colab\"/></a>"
      ]
    },
    {
      "cell_type": "code",
      "execution_count": null,
      "metadata": {
        "id": "UY9C5SQeRJnR"
      },
      "outputs": [],
      "source": [
        "import numpy as np\n",
        "\n",
        "x = np.zeros(48).reshape(6,8)\n",
        "rand_values = set()\n",
        "\n",
        "for i in range(6):\n",
        "    for j in range(8):\n",
        "        while True:\n",
        "            k = np.random.randint(1,49)\n",
        "            if k in rand_values:\n",
        "                continue\n",
        "            else:\n",
        "                x[i,j] = k\n",
        "                rand_values.add(k)\n",
        "                break\n",
        "x"
      ]
    }
  ]
}