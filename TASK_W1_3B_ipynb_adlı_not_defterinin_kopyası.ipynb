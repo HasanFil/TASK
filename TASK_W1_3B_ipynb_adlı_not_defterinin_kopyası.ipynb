{
  "nbformat": 4,
  "nbformat_minor": 0,
  "metadata": {
    "colab": {
      "provenance": [],
      "collapsed_sections": [],
      "authorship_tag": "ABX9TyMcAtVMs3uVtdjiFeuJQxSE",
      "include_colab_link": true
    },
    "kernelspec": {
      "name": "python3",
      "display_name": "Python 3"
    },
    "language_info": {
      "name": "python"
    }
  },
  "cells": [
    {
      "cell_type": "markdown",
      "metadata": {
        "id": "view-in-github",
        "colab_type": "text"
      },
      "source": [
        "<a href=\"https://colab.research.google.com/github/HasanFil/TASK/blob/main/TASK_W1_3B_ipynb_adl%C4%B1_not_defterinin_kopyas%C4%B1.ipynb\" target=\"_parent\"><img src=\"https://colab.research.google.com/assets/colab-badge.svg\" alt=\"Open In Colab\"/></a>"
      ]
    },
    {
      "cell_type": "code",
      "source": [
        "import pandas as pd\n",
        "data=pd.read_csv('president_heights.csv')\n",
        "heights = pd.array(data['height(cm)'])\n",
        "name=pd.array(data['name'])\n",
        "orden=pd.array(data['order'])\n",
        "print(\"En uzun boy:    \", heights.min())\n",
        "print(\"En kısa boy:    \", heights.max())\n",
        "print(\"En uzun boylu başkan :  \", data[\"name\"][heights.argmax()])\n",
        "print(\"En kısa boylu başkan :  \", data[\"name\"][heights.argmin()])\n",
        "print(\"En uzun boylu başkan kaçıncı başkandır :  \", data[\"order\"][heights.argmax()])\n",
        "print(\"En kısa boylu başkan kaçıncı başkandır :  \", data[\"order\"][heights.argmin()])"
      ],
      "metadata": {
        "colab": {
          "base_uri": "https://localhost:8080/"
        },
        "id": "ICBcliUDwB3s",
        "outputId": "d0b9f2ba-d9e8-4a8a-de7b-00ed726ff8a9"
      },
      "execution_count": null,
      "outputs": [
        {
          "output_type": "stream",
          "name": "stdout",
          "text": [
            "En uzun boy:     163\n",
            "En kısa boy:     193\n",
            "En uzun boylu başkan :   Abraham Lincoln\n",
            "En kısa boylu başkan :   James Madison\n",
            "En uzun boylu başkan kaçıncı başkandır :   16\n",
            "En kısa boylu başkan kaçıncı başkandır :   4\n"
          ]
        }
      ]
    }
  ]
}