{
  "nbformat": 4,
  "nbformat_minor": 0,
  "metadata": {
    "colab": {
      "provenance": [],
      "authorship_tag": "ABX9TyMXTaWptK4FM4Vu0bfZ8m2Z",
      "include_colab_link": true
    },
    "kernelspec": {
      "name": "python3",
      "display_name": "Python 3"
    },
    "language_info": {
      "name": "python"
    }
  },
  "cells": [
    {
      "cell_type": "markdown",
      "metadata": {
        "id": "view-in-github",
        "colab_type": "text"
      },
      "source": [
        "<a href=\"https://colab.research.google.com/github/HasanFil/TASK/blob/main/Task_6_Alper_Hoca.ipynb\" target=\"_parent\"><img src=\"https://colab.research.google.com/assets/colab-badge.svg\" alt=\"Open In Colab\"/></a>"
      ]
    },
    {
      "cell_type": "markdown",
      "source": [
        " 1.1 - Json-Dictionary arasındaki fark nedir?\n"
      ],
      "metadata": {
        "id": "NN7802FSwqsE"
      }
    },
    {
      "cell_type": "markdown",
      "source": [
        "Python'daki Dictionary herhangi karma neslerek içerebilirken, JSON anahtarı yalnızca bir string olabilir. Python dict dizesinde tek tırnak işaretleri kullanılırken, JSON'da çift tırnak işaretleri gerekir."
      ],
      "metadata": {
        "id": "_HE-4xFcxwU4"
      }
    },
    {
      "cell_type": "markdown",
      "source": [],
      "metadata": {
        "id": "1RWQnoDoxxm3"
      }
    },
    {
      "cell_type": "markdown",
      "source": [
        "1.2 - Dumps ne işe yarar?"
      ],
      "metadata": {
        "id": "Mx4K0hO6yNhy"
      }
    },
    {
      "cell_type": "markdown",
      "source": [
        "Pythondaki veri tiplerini Json formatına çevirir."
      ],
      "metadata": {
        "id": "8yOgguyvyRjl"
      }
    },
    {
      "cell_type": "markdown",
      "source": [
        "1.3 - Neden encode kullandık? Neden data.encode.utf-8 şeklinde kullanmadık?"
      ],
      "metadata": {
        "id": "jgfhTx_HyhA0"
      }
    },
    {
      "cell_type": "markdown",
      "source": [
        "Bilgilerin UTF-8'e göre daha verimli bir şekilde saklanması için.\n"
      ],
      "metadata": {
        "id": "klXR7RcryjQO"
      }
    },
    {
      "cell_type": "markdown",
      "source": [
        "2.1 - Json load nedir?"
      ],
      "metadata": {
        "id": "7nnCoMi_zEP-"
      }
    },
    {
      "cell_type": "markdown",
      "source": [
        "oad fonksiyonu sadece dosyadaki JSON verilerini Python verisine çevirir"
      ],
      "metadata": {
        "id": "xNSKF-PHzIps"
      }
    },
    {
      "cell_type": "markdown",
      "source": [
        " 2.2 - Json loads nedir?"
      ],
      "metadata": {
        "id": "ieH5eo0vzOyn"
      }
    },
    {
      "cell_type": "markdown",
      "source": [
        "loads fonksiyonu veriyi parametre olarak alıyor"
      ],
      "metadata": {
        "id": "KAO2i2nNzfe4"
      }
    },
    {
      "cell_type": "markdown",
      "source": [
        "3 - Dockera girdikten sonra spesific bir container hangi networkta çalışıyor ve default ip nasıl bulunacak?"
      ],
      "metadata": {
        "id": "3o-sajvZz6xp"
      }
    },
    {
      "cell_type": "markdown",
      "source": [
        "\n",
        "Terminal içerisinde  Ipconfig/all yazarak, local ethernet kısmında bulabiliriz.\n",
        "docker inspect -f “{{range.NetworkSettings.Networks}}{{.IPAddress}}{{end}}” ContainerID\n"
      ],
      "metadata": {
        "id": "7ofz-GJM0b4t"
      }
    },
    {
      "cell_type": "markdown",
      "source": [
        "4 - Kod json.dumps değil de json.dump ile deneyerek yazılacak.\n"
      ],
      "metadata": {
        "id": "YiXgfxGW0cz9"
      }
    },
    {
      "cell_type": "markdown",
      "source": [
        "producer.send( OREDER_KAFKA_TOPİC, with open(\"sample.json\", \"w\") as outfile: json.dump(data, outfile) f = open(\"demofile.txt\", \"r\") f.read() )"
      ],
      "metadata": {
        "id": "YlZjeUek0hMd"
      }
    },
    {
      "cell_type": "markdown",
      "source": [
        " 5 - Neden UTF-8 kullanıyoruz?"
      ],
      "metadata": {
        "id": "geKUdsvF0qdZ"
      }
    },
    {
      "cell_type": "markdown",
      "source": [
        " Bir HTML sayfası yalnızca bir kodlamada olabilir. Bir belgenin farklı bölümlerini farklı kodlamalarla kodlayamazsınız. UTF-8 gibi Unicode tabanlı bir kodlama, birçok dili destekleyebilir ve bu dillerin herhangi bir karışımındaki sayfaları ve formları barındırabilir."
      ],
      "metadata": {
        "id": "W1DJKrcl0r7_"
      }
    },
    {
      "cell_type": "markdown",
      "source": [
        "6 - 192.168.0.1 nedir ve 127.00.01 arasındaki fark nedir?\n"
      ],
      "metadata": {
        "id": "LSuyhl1H0sVL"
      }
    },
    {
      "cell_type": "markdown",
      "source": [
        "192.168.0.1, internet ağını kuran ya da cihazın bağlantısını izleyebilen bir yönlendirici kullanıcısının IP adresidir.\n",
        "Kısacası localhost, varsayılan IP adresi 127.0.0.1 olan kendi bilgisayarınızdır.Localhost, kendi bilgisayarınız tarafından kullanılan sunucudur."
      ],
      "metadata": {
        "id": "graIe6ks0-Ib"
      }
    }
  ]
}