{
  "nbformat": 4,
  "nbformat_minor": 0,
  "metadata": {
    "colab": {
      "provenance": [],
      "collapsed_sections": [],
      "authorship_tag": "ABX9TyMmkl89laaniLgoOX2pMyD+",
      "include_colab_link": true
    },
    "kernelspec": {
      "name": "python3",
      "display_name": "Python 3"
    },
    "language_info": {
      "name": "python"
    }
  },
  "cells": [
    {
      "cell_type": "markdown",
      "metadata": {
        "id": "view-in-github",
        "colab_type": "text"
      },
      "source": [
        "<a href=\"https://colab.research.google.com/github/HasanFil/TASK-1.2.1/blob/main/TASK_1_2_1.ipynb\" target=\"_parent\"><img src=\"https://colab.research.google.com/assets/colab-badge.svg\" alt=\"Open In Colab\"/></a>"
      ]
    },
    {
      "cell_type": "code",
      "execution_count": null,
      "metadata": {
        "id": "pKW2inA0QozZ",
        "outputId": "02c7310a-95a0-4fc8-b1fa-1d51eaa18abb",
        "colab": {
          "base_uri": "https://localhost:8080/"
        }
      },
      "outputs": [
        {
          "output_type": "stream",
          "name": "stdout",
          "text": [
            "False\n",
            "True\n",
            "False\n",
            "True\n"
          ]
        }
      ],
      "source": [
        "def is_prime(num):\n",
        "  if (num<2):\n",
        "    return False\n",
        "  elif (num==2):\n",
        "    return True\n",
        "  elif (num%2 == 0):\n",
        "    return False\n",
        "  i=3\n",
        "  while (i<=num/2):\n",
        "    if (num%i==0):\n",
        "      return False\n",
        "    i=i+1\n",
        "  return True\n",
        "\n",
        "print(is_prime(144))\n",
        "print(is_prime(3))\n",
        "print(is_prime(25))\n",
        "print(is_prime(7))"
      ]
    },
    {
      "cell_type": "code",
      "source": [],
      "metadata": {
        "id": "2Gl8cSTmQp8h"
      },
      "execution_count": null,
      "outputs": []
    }
  ]
}